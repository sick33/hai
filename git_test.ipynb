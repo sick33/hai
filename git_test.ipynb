{
 "cells": [
  {
   "cell_type": "code",
   "execution_count": 1,
   "id": "4bf21167-587b-4f32-836e-56766a5a62de",
   "metadata": {},
   "outputs": [
    {
     "name": "stdout",
     "output_type": "stream",
     "text": [
      "git test 해보겠습니다\n"
     ]
    }
   ],
   "source": [
    "print(\"git test 해보겠습니다\")"
   ]
  },
  {
   "cell_type": "code",
   "execution_count": null,
   "id": "55596935-a27a-4429-8fd6-1f3a062ae3c8",
   "metadata": {},
   "outputs": [],
   "source": []
  }
 ],
 "metadata": {
  "kernelspec": {
   "display_name": "Python (ai-topic)",
   "language": "python",
   "name": "ai-topic"
  },
  "language_info": {
   "codemirror_mode": {
    "name": "ipython",
    "version": 3
   },
   "file_extension": ".py",
   "mimetype": "text/x-python",
   "name": "python",
   "nbconvert_exporter": "python",
   "pygments_lexer": "ipython3",
   "version": "3.10.18"
  }
 },
 "nbformat": 4,
 "nbformat_minor": 5
}
